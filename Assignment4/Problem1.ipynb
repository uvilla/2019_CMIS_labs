{
 "cells": [
  {
   "cell_type": "markdown",
   "metadata": {},
   "source": [
    "# Anisotropic Poisson Problem\n",
    "\n",
    "An anisotropic Poisson problem in a two-dimensional domain $\\Omega$ is given by the strong form\n",
    "$$\\newcommand{\\bs}{\\boldsymbol}$$\n",
    "\n",
    "\\begin{align*}\n",
    "-\\nabla \\cdot\\left( \\bs{A} \\nabla m\\right)+m &= f \\quad\n",
    "\\:\\:\\text{ in }\\Omega, \\\\ \n",
    "\\bs{A} \\nabla m \\cdot \\bs{n} &= 0  \\quad \\text{ on }\\partial\\Omega,\n",
    "\\end{align*}\n",
    "where the conductivity tensor $\\bs{A}(\\bs{x})\\in \\mathbb{R}^{2\\times\n",
    "  2}$ is assumed to be symmetric and positive definite for all\n",
    "$\\bs{x}$, $f(\\bs{x})$ is a given distributed source, and $\\bs{n}$\n",
    "is the unit outward normal vector to $\\partial\\Omega$."
   ]
  },
  {
   "cell_type": "markdown",
   "metadata": {},
   "source": [
    "## Solve BVP problem \n",
    "\n",
    "Choose $\\Omega$ to be a unit square $[-1,1]^2$ and take the source terms to be\n",
    "\\begin{equation*}\n",
    "f = \\exp(-100(x^2+y^2)).\n",
    "\\end{equation*}\n",
    "Use conductivity tensors $A(x)$ given by\n",
    "\\begin{equation*}\n",
    "A_1 = \\begin{pmatrix}\n",
    "10 & 0\\\\\n",
    "0  &10\n",
    "\\end{pmatrix}\n",
    "\\text{ and }\n",
    "A_2 = \\begin{pmatrix}\n",
    "1  & -0.5\\\\\n",
    "-0.5 &10\n",
    "\\end{pmatrix}\n",
    "\\end{equation*}"
   ]
  },
  {
   "cell_type": "code",
   "execution_count": null,
   "metadata": {},
   "outputs": [],
   "source": [
    "import matplotlib.pyplot as plt\n",
    "%matplotlib inline\n",
    "\n",
    "import dolfin as dl\n",
    "\n",
    "import math\n",
    "import numpy as np\n",
    "import logging\n",
    "\n",
    "logging.getLogger('FFC').setLevel(logging.WARNING)\n",
    "logging.getLogger('UFL').setLevel(logging.WARNING)\n",
    "dl.set_log_active(False)\n",
    "\n",
    "\n",
    "mesh = dl.RectangleMesh(dl.Point(-1,-1), dl.Point(1,1), 128, 128)\n",
    "\n",
    "\n",
    "V = dl.FunctionSpace(mesh, \"Lagrange\", 2)\n",
    "print (\"Number of unknowns = \", V.dim() )\n",
    "\n",
    "f = dl.Expression(\"exp(-100*(x[0]*x[0] + x[1]*x[1]))\", degree = 5)\n",
    "\n",
    "A1 = dl.Constant(((10., 0.),(0., 10.0)))\n",
    "A2 = dl.Constant(((1., -.5),(-0.5, 10.0)))\n",
    "\n",
    "m_hat = dl.TrialFunction(V)\n",
    "m_tilde = dl.TestFunction(V)\n",
    "\n",
    "a1 = dl.inner(A1*dl.grad(m_hat), dl.grad(m_tilde))*dl.dx + dl.inner(m_hat, m_tilde)*dl.dx\n",
    "a2 = dl.inner(A2*dl.grad(m_hat), dl.grad(m_tilde))*dl.dx + dl.inner(m_hat, m_tilde)*dl.dx\n",
    "\n",
    "b = dl.inner(f,m_tilde)*dl.dx\n",
    "\n",
    "m1 = dl.Function(V)\n",
    "dl.solve(a1 == b, m1)\n",
    "\n",
    "m2 = dl.Function(V)\n",
    "dl.solve(a2 == b, m2)\n",
    "\n",
    "dl.plot(m1, title=\"A = A1\")\n",
    "plt.show()\n",
    "dl.plot(m2, title=\"A = A2\")\n",
    "plt.show()"
   ]
  },
  {
   "cell_type": "code",
   "execution_count": null,
   "metadata": {},
   "outputs": [],
   "source": []
  }
 ],
 "metadata": {
  "kernelspec": {
   "display_name": "Python 3",
   "language": "python",
   "name": "python3"
  },
  "language_info": {
   "codemirror_mode": {
    "name": "ipython",
    "version": 3
   },
   "file_extension": ".py",
   "mimetype": "text/x-python",
   "name": "python",
   "nbconvert_exporter": "python",
   "pygments_lexer": "ipython3",
   "version": "3.6.6"
  }
 },
 "nbformat": 4,
 "nbformat_minor": 1
}
